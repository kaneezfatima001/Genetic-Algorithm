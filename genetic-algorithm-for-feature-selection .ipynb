{
 "cells": [
  {
   "attachments": {
    "e240e0f3-60da-44b4-81f7-16bb1e506ff5.png": {
     "image/png": "[encoded data removed]"
    }
   },
   "cell_type": "markdown",
   "id": "organized-listening",
   "metadata": {
    "_cell_guid": "b1076dfc-b9ad-4769-8c92-a6c4dae69d19",
    "_uuid": "8f2839f25d086af736a60e9eeb907d3b93b6e0e5",
    "papermill": {
     "duration": 0.02563,
     "end_time": "2021-06-29T07:28:24.569663",
     "exception": false,
     "start_time": "2021-06-29T07:28:24.544033",
     "status": "completed"
    },
    "tags": []
   },
   "source": [
    "## Genetic Algorithm\n",
    "_________\n",
    "#### The Genetic Algorithm(GA) is an evolutionary algorithm(EA) inspired by Charles Darwin’s theory of natural selection which espouses Survival of the fittest. As per the natural selection theory, the fittest individuals are selected to produce offsprings. The fittest parents' characteristics are then passed on to their offsprings using cross-over and mutation to ensure better chances of survival. Genetic algorithms are randomized search algorithms that generate high-quality optimization solutions by imitating the biologically inspired natural selection process such as selection, cross-over, and mutation.\n",
    "\n",
    "### Terminology for Genetic Algorithm\n",
    "![](https://miro.medium.com/max/695/1*vIrsxg12DSltpdWoO561yA.png)\n",
    "#### **Population** contains a set of possible solutions for the stochastic search process to begin. GA will iterate over multiple generations till it finds an acceptable and optimized solution. First-generation is randomly generated.\n",
    "#### **Chromosome** represents one candidate solution present in the generation or population. A chromosome is also referred to as a Genotype. A chromosome is composed of Genes that contain the value for the optimal variables.\n",
    "#### **Phenotype** is the decoded parameter list for the genotype that is processed by the Genetic Algorithm. Mapping is applied to the genotype to convert to a phenotype.\n",
    "#### The **Fitness function** or the objective function evaluates the individual solution or phenotypes for every generation to identify the fittest members.\n",
    "__________\n",
    "### Different Genetic Operators\n",
    "#### **Selection** is the process of selecting the fittest solution from a population, and then the fittest solutions act as parents of the next generation of solutions. This allows the next generation to inherit the strong features naturally. Selection can be performed using Roulette Wheel Selection or **Ranked Selection** based on the fitness value.\n",
    "\n",
    "#### **Cross-over** or recombination happens when genes from the two fittest parents are randomly exchanged to form a new genotype or solution. Cross over can be a One-point cross over or Multi-Point Cross over based on the parent's segments of genes exchanged.\n",
    "![image.png](attachment:e240e0f3-60da-44b4-81f7-16bb1e506ff5.png)\n",
    "#### Here **One-point Cross-over** is used.\n",
    "#### After a new population is created through selection and crossover, it is randomly modified through **mutation**. A **mutation** is a process to modify a genotype using a random process to promote diversity in the population to find better and optimized solutions.\n",
    "![](https://miro.medium.com/max/385/1*bk6zF_rpgGi8IcPIY6fCWg.png)\n",
    "______\n",
    "### Usage of Genetic Algorithm in Artificial Intelligence\n",
    "#### A Genetic Algorithm is used for Search and Optimization using an iterative process to arrive at the best solution out of multiple solutions.\n",
    "#### 1. A Genetic Algorithm can find an appropriate set of hyperparameters and their values for a deep learning model to increase its performance in Deep Learning.\n",
    "#### 2. A Genetic Algorithm can also be used to determine the best amount of features to include in a machine learning model for predicting the target variable.\n",
    "____\n",
    "\n",
    "### Working of Genetic Algorithm\n",
    "![](https://miro.medium.com/max/598/1*TZ840m0DvghL80GodVGLeQ.png)\n",
    "____"
   ]
  },
  {
   "cell_type": "markdown",
   "id": "subsequent-casino",
   "metadata": {
    "papermill": {
     "duration": 0.023657,
     "end_time": "2021-06-29T07:28:24.617528",
     "exception": false,
     "start_time": "2021-06-29T07:28:24.593871",
     "status": "completed"
    },
    "tags": []
   },
   "source": [
    "### Importing the required libraries"
   ]
  },
  {
   "cell_type": "code",
   "execution_count": 1,
   "id": "smoking-peter",
   "metadata": {
    "execution": {
     "iopub.execute_input": "2021-06-29T07:28:24.669423Z",
     "iopub.status.busy": "2021-06-29T07:28:24.668229Z",
     "iopub.status.idle": "2021-06-29T07:28:25.958797Z",
     "shell.execute_reply": "2021-06-29T07:28:25.958027Z",
     "shell.execute_reply.started": "2021-06-29T05:20:43.374494Z"
    },
    "papermill": {
     "duration": 1.317509,
     "end_time": "2021-06-29T07:28:25.958985",
     "exception": false,
     "start_time": "2021-06-29T07:28:24.641476",
     "status": "completed"
    },
    "tags": []
   },
   "outputs": [],
   "source": [
    "import numpy as np\n",
    "import pandas as pd\n",
    "import seaborn as sns\n",
    "import matplotlib.pyplot as plt\n",
    "from random import randint\n",
    "%matplotlib inline \n",
    "import warnings\n",
    "warnings.filterwarnings(\"ignore\")\n",
    "\n",
    "from sklearn.model_selection import train_test_split\n",
    "from sklearn.metrics import r2_score\n",
    "from sklearn import svm\n",
    "from sklearn.linear_model import LinearRegression\n",
    "from sklearn.ensemble import RandomForestRegressor, AdaBoostRegressor, GradientBoostingRegressor\n",
    "from sklearn.tree import DecisionTreeRegressor\n",
    "from sklearn.neighbors import KNeighborsRegressor\n",
    "\n",
    "def split_data(df, label):\n",
    "    X_train, X_test, y_train, y_test = train_test_split(df, label, test_size=0.25, random_state=42)\n",
    "    return X_train, X_test, y_train, y_test\n",
    "\n",
    "regressors = ['Linear Regression', 'Random Forest', 'AdaBoost', 'Decision Tree', 'KNeighbors', 'Gradient Boosting']\n",
    "\n",
    "models = [\n",
    "    LinearRegression(),\n",
    "    RandomForestRegressor(n_estimators=200, random_state=0),\n",
    "    AdaBoostRegressor(random_state=0),\n",
    "    DecisionTreeRegressor(random_state=0),\n",
    "    KNeighborsRegressor(),\n",
    "    GradientBoostingRegressor(random_state=0)\n",
    "]\n",
    "\n",
    "def r2_score_regression(df, label):\n",
    "    scores = pd.DataFrame({\"Regressor\": regressors})\n",
    "    r2_scores = []\n",
    "    X_train, X_test, y_train, y_test = split_data(df, label)\n",
    "    \n",
    "    for model in models:\n",
    "        model.fit(X_train, y_train)\n",
    "        predictions = model.predict(X_test)\n",
    "        r2_scores.append(r2_score(y_test, predictions))\n",
    "    \n",
    "    scores[\"R2 Score\"] = r2_scores\n",
    "    scores.sort_values(by=\"R2 Score\", ascending=False, inplace=True)\n",
    "    scores.reset_index(drop=True, inplace=True)\n",
    "    \n",
    "    return scores\n",
    "\n",
    "def plot(scores, lower_lim, upper_lim, color=\"b\"):\n",
    "    generations = [1, 2, 3, 4, 5]\n",
    "    plt.figure(figsize=(6, 4))\n",
    "    ax = sns.pointplot(x=generations, y=scores, color=color)\n",
    "    ax.set(xlabel=\"Generation\", ylabel=\"R2 Score\")\n",
    "    ax.set(ylim=(lower_lim, upper_lim))\n"
   ]
  },
  {
   "cell_type": "code",
   "execution_count": 2,
   "id": "wireless-score",
   "metadata": {
    "execution": {
     "iopub.execute_input": "2021-06-29T07:28:26.021277Z",
     "iopub.status.busy": "2021-06-29T07:28:26.016162Z",
     "iopub.status.idle": "2021-06-29T07:28:26.029466Z",
     "shell.execute_reply": "2021-06-29T07:28:26.028893Z",
     "shell.execute_reply.started": "2021-06-29T05:20:44.763513Z"
    },
    "papermill": {
     "duration": 0.046066,
     "end_time": "2021-06-29T07:28:26.029615",
     "exception": false,
     "start_time": "2021-06-29T07:28:25.983549",
     "status": "completed"
    },
    "tags": []
   },
   "outputs": [],
   "source": [
    "def initilization_of_population(size,n_feat):\n",
    "    population = []\n",
    "    for i in range(size):\n",
    "        chromosome = np.ones(n_feat,dtype=np.bool)     \n",
    "        chromosome[:int(0.3*n_feat)]=False             \n",
    "        np.random.shuffle(chromosome)\n",
    "        population.append(chromosome)\n",
    "    return population\n",
    "\n",
    "\n",
    "def fitness_score(population):\n",
    "    scores = []\n",
    "    for chromosome in population:\n",
    "        logmodel.fit(X_train.iloc[:,chromosome],Y_train)         \n",
    "        predictions = logmodel.predict(X_test.iloc[:,chromosome])\n",
    "        scores.append(accuracy_score(Y_test,predictions))\n",
    "    scores, population = np.array(scores), np.array(population) \n",
    "    inds = np.argsort(scores)                                    \n",
    "    return list(scores[inds][::-1]), list(population[inds,:][::-1]) \n",
    "\n",
    "\n",
    "def selection(pop_after_fit,n_parents):\n",
    "    population_nextgen = []\n",
    "    for i in range(n_parents):\n",
    "        population_nextgen.append(pop_after_fit[i])\n",
    "    return population_nextgen\n",
    "\n",
    "\n",
    "def crossover(pop_after_sel):\n",
    "    pop_nextgen = pop_after_sel\n",
    "    for i in range(0,len(pop_after_sel),2):\n",
    "        new_par = []\n",
    "        child_1 , child_2 = pop_nextgen[i] , pop_nextgen[i+1]\n",
    "        new_par = np.concatenate((child_1[:len(child_1)//2],child_2[len(child_1)//2:]))\n",
    "        pop_nextgen.append(new_par)\n",
    "    return pop_nextgen\n",
    "\n",
    "\n",
    "def mutation(pop_after_cross,mutation_rate,n_feat):   \n",
    "    mutation_range = int(mutation_rate*n_feat)\n",
    "    pop_next_gen = []\n",
    "    for n in range(0,len(pop_after_cross)):\n",
    "        chromo = pop_after_cross[n]\n",
    "        rand_posi = [] \n",
    "        for i in range(0,mutation_range):\n",
    "            pos = randint(0,n_feat-1)\n",
    "            rand_posi.append(pos)\n",
    "        for j in rand_posi:\n",
    "            chromo[j] = not chromo[j]  \n",
    "        pop_next_gen.append(chromo)\n",
    "    return pop_next_gen\n",
    "\n",
    "def generations(df, label, size, n_feat, n_parents, mutation_rate, n_gen, X_train, X_test, Y_train, Y_test):\n",
    "    best_chromo = []\n",
    "    best_score = []\n",
    "    selected_features = []\n",
    "    population_nextgen = initilization_of_population(size, n_feat)\n",
    "    for i in range(n_gen):\n",
    "        scores, pop_after_fit = fitness_score(population_nextgen)\n",
    "        print('Best score in generation', i + 1, ':', scores[:1])\n",
    "        pop_after_sel = selection(pop_after_fit, n_parents)\n",
    "        pop_after_cross = crossover(pop_after_sel)\n",
    "        population_nextgen = mutation(pop_after_cross, mutation_rate, n_feat)\n",
    "        best_chromo.append(pop_after_fit[0])\n",
    "        best_score.append(scores[0])\n",
    "        selected_features.append(list(df.columns[pop_after_fit[0]]))\n",
    "    return best_chromo, best_score, selected_features\n",
    "\n"
   ]
  },
  {
   "cell_type": "markdown",
   "id": "theoretical-honey",
   "metadata": {
    "papermill": {
     "duration": 0.023797,
     "end_time": "2021-06-29T07:28:26.077380",
     "exception": false,
     "start_time": "2021-06-29T07:28:26.053583",
     "status": "completed"
    },
    "tags": []
   },
   "source": [
    "____\n",
    "### Function Description\n",
    "#### 1. split():\n",
    "Splits the dataset into training and test set.\n",
    "#### 2. acc_score():\n",
    "Returns accuracy for all the classifiers.\n",
    "#### 3. plot():\n",
    "For plotting the results.\n",
    "_____\n",
    "### Function Description for Genetic Algorithm\n",
    "#### 1. initilization_of_population():\n",
    "To initialize a random population.\n",
    "#### 2. fitness_score():\n",
    "Returns the best parents along with their score.\n",
    "#### 3. selection():\n",
    "Selection of the best parents.\n",
    "#### 4. crossover():\n",
    "Picks half of the first parent and half of the second parent.\n",
    "#### 5. mutation():\n",
    "Randomly flips selected bits from the crossover child.\n",
    "#### 6. generations():\n",
    "Executes all the above functions for the specified number of generations\n",
    "____\n",
    "### The following 3 dataset is used:\n",
    "\n",
    "\n",
    "- Parkinson's Disease\n",
    "\n",
    "_____\n",
    "### Plan of action:\n",
    "\n",
    "* Looking at dataset (includes a little preprocessing)\n",
    "* Checking Accuracy (comparing accuracies with the new dataset)\n",
    "* Getting the Features (Important features)\n",
    "* Visualization (Plotting the graphs)\n",
    "____"
   ]
  },
  {
   "cell_type": "markdown",
   "id": "governing-croatia",
   "metadata": {
    "papermill": {
     "duration": 0.023847,
     "end_time": "2021-06-29T07:28:26.125872",
     "exception": false,
     "start_time": "2021-06-29T07:28:26.102025",
     "status": "completed"
    },
    "tags": []
   },
   "source": [
    "## Implementation of Genetic Algorithm for Feature Selection\n",
    "________\n",
    "#### First, we run a function to initialize a random population.\n",
    "#### The randomized population is now run through the fitness function, which returns the best parents (highest accuracy).\n",
    "#### Selection from these best parents will occur depending on the n-parent parameter.\n",
    "#### After doing the same, it will be put through the crossover and mutation functions respectively.\n",
    "#### Cross over is created by combining genes from the two fittest parents by randomly picking a part of the first parent and a part of the second parent.\n",
    "#### The mutation is achieved by randomly flipping selected bits for the crossover child.\n",
    "#### A new generation is created by selecting the fittest parents from the previous generation and applying cross-over and mutation.\n",
    "#### This process is repeated for n number of generations.\n",
    "______"
   ]
  },
  {
   "cell_type": "markdown",
   "id": "hungry-advancement",
   "metadata": {
    "papermill": {
     "duration": 0.027865,
     "end_time": "2021-06-29T07:32:17.070127",
     "exception": false,
     "start_time": "2021-06-29T07:32:17.042262",
     "status": "completed"
    },
    "tags": []
   },
   "source": [
    "# Boston Housing"
   ]
  },
  {
   "cell_type": "markdown",
   "id": "billion-temperature",
   "metadata": {
    "papermill": {
     "duration": 0.027749,
     "end_time": "2021-06-29T07:32:17.126446",
     "exception": false,
     "start_time": "2021-06-29T07:32:17.098697",
     "status": "completed"
    },
    "tags": []
   },
   "source": [
    "### 1. Looking at dataset"
   ]
  },
  {
   "cell_type": "code",
   "execution_count": 3,
   "id": "verbal-capability",
   "metadata": {
    "execution": {
     "iopub.execute_input": "2021-06-29T07:32:17.188272Z",
     "iopub.status.busy": "2021-06-29T07:32:17.187612Z",
     "iopub.status.idle": "2021-06-29T07:32:17.209979Z",
     "shell.execute_reply": "2021-06-29T07:32:17.209252Z"
    },
    "papermill": {
     "duration": 0.05554,
     "end_time": "2021-06-29T07:32:17.210189",
     "exception": false,
     "start_time": "2021-06-29T07:32:17.154649",
     "status": "completed"
    },
    "tags": []
   },
   "outputs": [
    {
     "name": "stdout",
     "output_type": "stream",
     "text": [
      "Housing dataset:\n",
      " 506 Records\n",
      " 13 Features\n"
     ]
    }
   ],
   "source": [
    "data_pd = pd.read_csv('Boston Housing.csv')\n",
    "label_pd = data_pd[\"MEDV\"]\n",
    "data_pd.drop([\"MEDV\"],axis = 1,inplace = True)\n",
    "\n",
    "print(\"Housing dataset:\\n\",data_pd.shape[0],\"Records\\n\",data_pd.shape[1],\"Features\")"
   ]
  },
  {
   "cell_type": "code",
   "execution_count": 4,
   "id": "involved-developer",
   "metadata": {
    "execution": {
     "iopub.execute_input": "2021-06-29T07:32:17.295661Z",
     "iopub.status.busy": "2021-06-29T07:32:17.291188Z",
     "iopub.status.idle": "2021-06-29T07:32:17.300639Z",
     "shell.execute_reply": "2021-06-29T07:32:17.301180Z"
    },
    "papermill": {
     "duration": 0.062068,
     "end_time": "2021-06-29T07:32:17.301357",
     "exception": false,
     "start_time": "2021-06-29T07:32:17.239289",
     "status": "completed"
    },
    "tags": []
   },
   "outputs": [
    {
     "data": {
      "text/html": [
       "<div>\n",
       "<style scoped>\n",
       "    .dataframe tbody tr th:only-of-type {\n",
       "        vertical-align: middle;\n",
       "    }\n",
       "\n",
       "    .dataframe tbody tr th {\n",
       "        vertical-align: top;\n",
       "    }\n",
       "\n",
       "    .dataframe thead th {\n",
       "        text-align: right;\n",
       "    }\n",
       "</style>\n",
       "<table border=\"1\" class=\"dataframe\">\n",
       "  <thead>\n",
       "    <tr style=\"text-align: right;\">\n",
       "      <th></th>\n",
       "      <th>CRIM</th>\n",
       "      <th>ZN</th>\n",
       "      <th>INDUS</th>\n",
       "      <th>CHAS</th>\n",
       "      <th>NOX</th>\n",
       "      <th>RM</th>\n",
       "      <th>AGE</th>\n",
       "      <th>DIS</th>\n",
       "      <th>RAD</th>\n",
       "      <th>TAX</th>\n",
       "      <th>PTRATIO</th>\n",
       "      <th>B</th>\n",
       "      <th>LSTAT</th>\n",
       "    </tr>\n",
       "  </thead>\n",
       "  <tbody>\n",
       "    <tr>\n",
       "      <th>0</th>\n",
       "      <td>0.00632</td>\n",
       "      <td>18.0</td>\n",
       "      <td>2.31</td>\n",
       "      <td>0</td>\n",
       "      <td>0.538</td>\n",
       "      <td>6.575</td>\n",
       "      <td>65.2</td>\n",
       "      <td>4.0900</td>\n",
       "      <td>1</td>\n",
       "      <td>296</td>\n",
       "      <td>15.3</td>\n",
       "      <td>396.90</td>\n",
       "      <td>4.98</td>\n",
       "    </tr>\n",
       "    <tr>\n",
       "      <th>1</th>\n",
       "      <td>0.02731</td>\n",
       "      <td>0.0</td>\n",
       "      <td>7.07</td>\n",
       "      <td>0</td>\n",
       "      <td>0.469</td>\n",
       "      <td>6.421</td>\n",
       "      <td>78.9</td>\n",
       "      <td>4.9671</td>\n",
       "      <td>2</td>\n",
       "      <td>242</td>\n",
       "      <td>17.8</td>\n",
       "      <td>396.90</td>\n",
       "      <td>9.14</td>\n",
       "    </tr>\n",
       "    <tr>\n",
       "      <th>2</th>\n",
       "      <td>0.02729</td>\n",
       "      <td>0.0</td>\n",
       "      <td>7.07</td>\n",
       "      <td>0</td>\n",
       "      <td>0.469</td>\n",
       "      <td>7.185</td>\n",
       "      <td>61.1</td>\n",
       "      <td>4.9671</td>\n",
       "      <td>2</td>\n",
       "      <td>242</td>\n",
       "      <td>17.8</td>\n",
       "      <td>392.83</td>\n",
       "      <td>4.03</td>\n",
       "    </tr>\n",
       "    <tr>\n",
       "      <th>3</th>\n",
       "      <td>0.03237</td>\n",
       "      <td>0.0</td>\n",
       "      <td>2.18</td>\n",
       "      <td>0</td>\n",
       "      <td>0.458</td>\n",
       "      <td>6.998</td>\n",
       "      <td>45.8</td>\n",
       "      <td>6.0622</td>\n",
       "      <td>3</td>\n",
       "      <td>222</td>\n",
       "      <td>18.7</td>\n",
       "      <td>394.63</td>\n",
       "      <td>2.94</td>\n",
       "    </tr>\n",
       "    <tr>\n",
       "      <th>4</th>\n",
       "      <td>0.06905</td>\n",
       "      <td>0.0</td>\n",
       "      <td>2.18</td>\n",
       "      <td>0</td>\n",
       "      <td>0.458</td>\n",
       "      <td>7.147</td>\n",
       "      <td>54.2</td>\n",
       "      <td>6.0622</td>\n",
       "      <td>3</td>\n",
       "      <td>222</td>\n",
       "      <td>18.7</td>\n",
       "      <td>396.90</td>\n",
       "      <td>5.33</td>\n",
       "    </tr>\n",
       "  </tbody>\n",
       "</table>\n",
       "</div>"
      ],
      "text/plain": [
       "      CRIM    ZN  INDUS  CHAS    NOX     RM   AGE     DIS  RAD  TAX  PTRATIO  \\\n",
       "0  0.00632  18.0   2.31     0  0.538  6.575  65.2  4.0900    1  296     15.3   \n",
       "1  0.02731   0.0   7.07     0  0.469  6.421  78.9  4.9671    2  242     17.8   \n",
       "2  0.02729   0.0   7.07     0  0.469  7.185  61.1  4.9671    2  242     17.8   \n",
       "3  0.03237   0.0   2.18     0  0.458  6.998  45.8  6.0622    3  222     18.7   \n",
       "4  0.06905   0.0   2.18     0  0.458  7.147  54.2  6.0622    3  222     18.7   \n",
       "\n",
       "        B  LSTAT  \n",
       "0  396.90   4.98  \n",
       "1  396.90   9.14  \n",
       "2  392.83   4.03  \n",
       "3  394.63   2.94  \n",
       "4  396.90   5.33  "
      ]
     },
     "metadata": {},
     "output_type": "display_data"
    },
    {
     "name": "stdout",
     "output_type": "stream",
     "text": [
      "All the features in this dataset have continuous values\n"
     ]
    }
   ],
   "source": [
    "display(data_pd.head())\n",
    "print(\"All the features in this dataset have continuous values\")"
   ]
  },
  {
   "cell_type": "markdown",
   "id": "mediterranean-newport",
   "metadata": {
    "papermill": {
     "duration": 0.030676,
     "end_time": "2021-06-29T07:32:17.361684",
     "exception": false,
     "start_time": "2021-06-29T07:32:17.331008",
     "status": "completed"
    },
    "tags": []
   },
   "source": [
    "### 2. Checking Accuracy"
   ]
  },
  {
   "cell_type": "code",
   "execution_count": 5,
   "id": "creative-season",
   "metadata": {
    "execution": {
     "iopub.execute_input": "2021-06-29T07:32:17.432928Z",
     "iopub.status.busy": "2021-06-29T07:32:17.432293Z",
     "iopub.status.idle": "2021-06-29T07:32:18.314711Z",
     "shell.execute_reply": "2021-06-29T07:32:18.314073Z"
    },
    "papermill": {
     "duration": 0.922737,
     "end_time": "2021-06-29T07:32:18.314856",
     "exception": false,
     "start_time": "2021-06-29T07:32:17.392119",
     "status": "completed"
    },
    "tags": []
   },
   "outputs": [
    {
     "ename": "NameError",
     "evalue": "name 'acc_score' is not defined",
     "output_type": "error",
     "traceback": [
      "\u001b[1;31m---------------------------------------------------------------------------\u001b[0m",
      "\u001b[1;31mNameError\u001b[0m                                 Traceback (most recent call last)",
      "Cell \u001b[1;32mIn[5], line 1\u001b[0m\n\u001b[1;32m----> 1\u001b[0m score3 \u001b[38;5;241m=\u001b[39m \u001b[43macc_score\u001b[49m(data_pd,label_pd)\n\u001b[0;32m      2\u001b[0m score3\n",
      "\u001b[1;31mNameError\u001b[0m: name 'acc_score' is not defined"
     ]
    }
   ],
   "source": [
    "score3 = acc_score(data_pd,label_pd)\n",
    "score3"
   ]
  },
  {
   "cell_type": "code",
   "execution_count": null,
   "id": "worth-arizona",
   "metadata": {
    "execution": {
     "iopub.execute_input": "2021-06-29T07:32:18.389209Z",
     "iopub.status.busy": "2021-06-29T07:32:18.388525Z",
     "iopub.status.idle": "2021-06-29T07:32:20.985988Z",
     "shell.execute_reply": "2021-06-29T07:32:20.986507Z"
    },
    "papermill": {
     "duration": 2.641116,
     "end_time": "2021-06-29T07:32:20.986718",
     "exception": false,
     "start_time": "2021-06-29T07:32:18.345602",
     "status": "completed"
    },
    "tags": []
   },
   "outputs": [],
   "source": [
    "logmodel = RandomForestClassifier(random_state=0)\n",
    "X_train, X_test, Y_train, Y_test = split(data_pd, label_pd)\n",
    "chromo_df_pd, score_pd, selected_features_pd = generations(data_pd, label_pd, size=80, n_feat=data_pd.shape[1], n_parents=64, mutation_rate=0.20, n_gen=5,\n",
    "                                     X_train=X_train, X_test=X_test, Y_train=Y_train, Y_test=Y_test)"
   ]
  },
  {
   "cell_type": "markdown",
   "id": "5f5f1151",
   "metadata": {},
   "source": [
    "### 3. Getting the Features"
   ]
  },
  {
   "cell_type": "code",
   "execution_count": 23,
   "id": "6f026819",
   "metadata": {},
   "outputs": [
    {
     "name": "stdout",
     "output_type": "stream",
     "text": [
      "Selected features from the last generation: ['MDVP:Jitter(%)', 'MDVP:Jitter(Abs)', 'MDVP:RAP', 'MDVP:PPQ', 'Jitter:DDP', 'Shimmer:APQ5', 'Shimmer:DDA', 'NHR', 'HNR', 'RPDE', 'DFA', 'spread1', 'PPE']\n"
     ]
    }
   ],
   "source": [
    "# Get the selected features from the last generation\n",
    "selected_features_final = selected_features_pd[-1]\n",
    "print(\"Selected features from the last generation:\", selected_features_final)\n"
   ]
  },
  {
   "cell_type": "code",
   "execution_count": 29,
   "id": "f2f39397",
   "metadata": {},
   "outputs": [
    {
     "name": "stdout",
     "output_type": "stream",
     "text": [
      "Feature Table:\n",
      "        Features  Selected_Status\n",
      "     MDVP:Fo(Hz)                0\n",
      "    MDVP:Fhi(Hz)                0\n",
      "    MDVP:Flo(Hz)                0\n",
      "  MDVP:Jitter(%)                1\n",
      "MDVP:Jitter(Abs)                1\n",
      "        MDVP:RAP                1\n",
      "        MDVP:PPQ                1\n",
      "      Jitter:DDP                1\n",
      "    MDVP:Shimmer                0\n",
      "MDVP:Shimmer(dB)                0\n",
      "    Shimmer:APQ3                0\n",
      "    Shimmer:APQ5                1\n",
      "        MDVP:APQ                0\n",
      "     Shimmer:DDA                1\n",
      "             NHR                1\n",
      "             HNR                1\n",
      "            RPDE                1\n",
      "             DFA                1\n",
      "         spread1                1\n",
      "         spread2                0\n",
      "              D2                0\n",
      "             PPE                1\n"
     ]
    }
   ],
   "source": [
    "selected_features_final = ['MDVP:Jitter(%)', 'MDVP:Jitter(Abs)', 'MDVP:RAP', 'MDVP:PPQ', 'Jitter:DDP', 'Shimmer:APQ5', 'Shimmer:DDA', 'NHR', 'HNR', 'RPDE', 'DFA', 'spread1', 'PPE']\n",
    "feature_mask = [1 if feature in selected_features_final else 0 for feature in data_pd.columns]\n",
    "\n",
    "feature_table = pd.DataFrame({'Features': data_pd.columns, 'Selected_Status': feature_mask})\n",
    "\n",
    "# Display feature table\n",
    "print(\"Feature Table:\")\n",
    "print(feature_table.to_string(index=False))\n",
    "#print(\"Feature Table:\")"
   ]
  },
  {
   "cell_type": "markdown",
   "id": "motivated-patent",
   "metadata": {
    "papermill": {
     "duration": 0.032382,
     "end_time": "2021-06-29T07:32:21.115627",
     "exception": false,
     "start_time": "2021-06-29T07:32:21.083245",
     "status": "completed"
    },
    "tags": []
   },
   "source": [
    "### 4. Visualization"
   ]
  },
  {
   "cell_type": "code",
   "execution_count": 12,
   "id": "selective-learning",
   "metadata": {
    "execution": {
     "iopub.execute_input": "2021-06-29T07:32:21.210454Z",
     "iopub.status.busy": "2021-06-29T07:32:21.187199Z",
     "iopub.status.idle": "2021-06-29T07:32:21.315152Z",
     "shell.execute_reply": "2021-06-29T07:32:21.314522Z"
    },
    "papermill": {
     "duration": 0.167197,
     "end_time": "2021-06-29T07:32:21.315305",
     "exception": false,
     "start_time": "2021-06-29T07:32:21.148108",
     "status": "completed"
    },
    "tags": []
   },
   "outputs": [
    {
     "data": {
      "image/png": "[encoded data removed]",
      "text/plain": [
       "<Figure size 432x288 with 1 Axes>"
      ]
     },
     "metadata": {
      "needs_background": "light"
     },
     "output_type": "display_data"
    }
   ],
   "source": [
    "plot(score_pd,0.9,1.0,c = \"orange\")"
   ]
  }
 ],
 "metadata": {
  "kernelspec": {
   "display_name": "Python 3 (ipykernel)",
   "language": "python",
   "name": "python3"
  },
  "language_info": {
   "codemirror_mode": {
    "name": "ipython",
    "version": 3
   },
   "file_extension": ".py",
   "mimetype": "text/x-python",
   "name": "python",
   "nbconvert_exporter": "python",
   "pygments_lexer": "ipython3",
   "version": "3.11.3"
  },
  "papermill": {
   "default_parameters": {},
   "duration": 524.810554,
   "end_time": "2021-06-29T07:37:01.230560",
   "environment_variables": {},
   "exception": null,
   "input_path": "__notebook__.ipynb",
   "output_path": "__notebook__.ipynb",
   "parameters": {},
   "start_time": "2021-06-29T07:28:16.420006",
   "version": "2.3.3"
  }
 },
 "nbformat": 4,
 "nbformat_minor": 5
}
