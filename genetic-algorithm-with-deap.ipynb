{
 "cells": [
  {
   "cell_type": "code",
   "execution_count": null,
   "metadata": {},
   "outputs": [],
   "source": [
    "import random\n",
    "import numpy\n",
    "import pandas as pd\n",
    "from deap import algorithms\n",
    "from deap import base\n",
    "from deap import creator\n",
    "from deap import tools\n",
    "import multiprocessing\n",
    "import matplotlib.pyplot as plt\n",
    "import seaborn as sns\n",
    "import numpy as np\n",
    "import argparse"
   ]
  },
  {
   "cell_type": "markdown",
   "metadata": {},
   "source": [
    "## Introduction Genetic Algorithm\n",
    "\n",
    "Basic Description\n",
    "Genetic algorithms are inspired by Darwin's theory about evolution. Solution to a problem solved by genetic algorithms is evolved.\n",
    "\n",
    "Algorithm is started with a set of solutions (represented by chromosomes) called population. Solutions from one population are taken and used to form a new population. This is motivated by a hope, that the new population will be better than the old one. Solutions which are selected to form new solutions (offspring) are selected according to their fitness - the more suitable they are the more chances they have to reproduce.\n",
    "\n",
    "![](https://tutorials.retopall.com/wp-content/uploads/2019/03/GeneticAlgorithm-1-1024x374.png)\n",
    "\n",
    "Outline of the Basic Genetic Algorithm\n",
    "* **[Start]** Generate random population of n chromosomes (suitable solutions for the problem)\n",
    "* **[Fitness]** Evaluate the fitness f(x) of each chromosome x in the population\n",
    "    * **[New population]** Create a new population by repeating following steps until the new population is complete\n",
    "    * **[Selection]** Select two parent chromosomes from a population according to their fitness (the better fitness, the bigger chance to be selected)\n",
    "    * **[Crossover]** With a crossover probability cross over the parents to form a new offspring (children). If no crossover was performed, offspring is an exact copy of parents.\n",
    "    * **[Mutation]** With a mutation probability mutate new offspring at each locus (position in chromosome).\n",
    "    * [Accepting] Place new offspring in a new population\n",
    "* **[Replace]** Use new generated population for a further run of algorithm\n",
    "* **[Test]** If the end condition is satisfied, stop, and return the best solution in current population\n",
    "* **[Loop]** Go to step 2"
   ]
  },
  {
   "cell_type": "markdown",
   "metadata": {},
   "source": [
    "#### Define constants and support methods"
   ]
  },
  {
   "cell_type": "code",
   "execution_count": 2,
   "metadata": {},
   "outputs": [],
   "source": [
    "# Probem COnstants\n",
    "N_DAYS        = 100\n",
    "MAX_OCCUPANCY = 300\n",
    "MIN_OCCUPANCY = 125\n",
    "FAMINY_SIZE   = 5000\n",
    "DAYS          = list(range(N_DAYS,0,-1))\n",
    "\n",
    "\n",
    "#load dataset\n",
    "data        = pd.read_csv('santa.csv', index_col='family_id')\n",
    "submission  = pd.read_csv('sample_submission.csv', index_col='family_id')\n",
    "\n",
    "\n",
    "# Load util variables\n",
    "family_size_dict  = data[['n_people']].to_dict()['n_people']\n",
    "cols              = [f'choice_{i}' for i in range(10)]\n",
    "choice_dict       = data[cols].T.to_dict()\n",
    "\n",
    "# from 100 to 1\n",
    "family_size_ls  = list(family_size_dict.values())\n",
    "choice_dict_num = [{vv:i for i, vv in enumerate(di.values())} for di in choice_dict.values()]\n",
    "\n",
    "# Computer penalities in a list\n",
    "penalties_dict = {\n",
    "  n: [\n",
    "      0,\n",
    "      50,\n",
    "      50  + 9 * n,\n",
    "      100 + 9 * n,\n",
    "      200 + 9 * n,\n",
    "      200 + 18 * n,\n",
    "      300 + 18 * n,\n",
    "      300 + 36 * n,\n",
    "      400 + 36 * n,\n",
    "      500 + 36 * n + 199 * n,\n",
    "      500 + 36 * n + 398 * n\n",
    "  ]\n",
    "  for n in range(max(family_size_dict.values())+1)\n",
    "} "
   ]
  },
  {
   "cell_type": "markdown",
   "metadata": {},
   "source": [
    "### Toolbox"
   ]
  },
  {
   "cell_type": "code",
   "execution_count": 3,
   "metadata": {
    "_cell_guid": "b1076dfc-b9ad-4769-8c92-a6c4dae69d19",
    "_uuid": "8f2839f25d086af736a60e9eeb907d3b93b6e0e5"
   },
   "outputs": [],
   "source": [
    "# Create a Tollbox Optmizer\n",
    "\n",
    "# The creator is a class factory that can build new classes at run-time. It will be called with first the desired name of the new class, \n",
    "# second the base class it will inherit, and in addition any subsequent arguments you want to become attributes of your class. \n",
    "# This allows us to build new and complex structures of any type of container from lists to n-ary trees.\n",
    "creator.create(\"FitnessMin\", base.Fitness, weights=(-1.0,))\n",
    "creator.create(\"Individual\", list, fitness=creator.FitnessMin)\n",
    "\n",
    "# Now we will use our custom classes to create types representing our individuals as well as our whole population.\n",
    "toolbox = base.Toolbox()"
   ]
  },
  {
   "cell_type": "markdown",
   "metadata": {},
   "source": [
    "### Creating the Population\n",
    "\n",
    "The population is random. Each individual is a vector of size k, where k = total families and each value is the day chosen by family d, where d varies between 0 and 100."
   ]
  },
  {
   "cell_type": "code",
   "execution_count": null,
   "metadata": {},
   "outputs": [],
   "source": [
    "# Attribute generator\n",
    "toolbox.register(\"attr_int\",   random.randint, 1, 100)\n",
    "\n",
    "# Structure initializers\n",
    "toolbox.register(\"individual\", tools.initRepeat, creator.Individual, toolbox.attr_int, FAMINY_SIZE)\n",
    "toolbox.register(\"population\", tools.initRepeat, list, toolbox.individual)\n",
    "\n",
    "pop   = toolbox.population(n=1000)\n",
    "\n",
    "print(pop[0])\n",
    "print(\"len: \", len(pop))"
   ]
  },
  {
   "cell_type": "markdown",
   "metadata": {},
   "source": [
    "### The Evaluation Function\n",
    "\n",
    "The evaluation function is pretty simple in our example. We just need to count the number of ones in an individual.\n",
    "The returned value must be an iterable of a length equal to the number of objectives (weights)."
   ]
  },
  {
   "cell_type": "code",
   "execution_count": 5,
   "metadata": {
    "_cell_guid": "79c7e3d0-c299-4dcb-8224-4455121ee9b0",
    "_uuid": "d629ff2d2480ee46fbb7e2d37f6b5fab8052498a"
   },
   "outputs": [],
   "source": [
    "# The evaluation function is pretty simple in our example. We just need to count the number of ones in an individual.\n",
    "def cost_function(prediction, family_size_ls, choice_dict, choice_dict_num, penalties_dict):\n",
    "    penalty = 0\n",
    "\n",
    "    # We'll use this to count the number of people scheduled each day\n",
    "    daily_occupancy = {k:0 for k in DAYS}\n",
    "    \n",
    "    # Looping over each family; d is the day, n is size of that family, \n",
    "    # and choice is their top choices\n",
    "    for n, c, c_dict, choice in zip(family_size_ls, prediction, list(choice_dict.values()), choice_dict_num):\n",
    "        d = int(c)\n",
    "        daily_occupancy[d] += n\n",
    "\n",
    "        # Calculate the penalty for not getting top preference\n",
    "        if d not in choice:\n",
    "            penalty += penalties_dict[n][-1]\n",
    "        else:\n",
    "            penalty += penalties_dict[n][choice[d]]\n",
    "\n",
    "    # for each date, check total occupancy\n",
    "    #  (using soft constraints instead of hard constraints)\n",
    "    k = 0\n",
    "    for v in daily_occupancy.values():\n",
    "        if (v > MAX_OCCUPANCY):\n",
    "            k = k + (v - MAX_OCCUPANCY)\n",
    "        if (v < MIN_OCCUPANCY):\n",
    "            k = k + (MIN_OCCUPANCY - v)\n",
    "    #    if k > 0:\n",
    "    #        penalty += 100000000 \n",
    "    penalty += 100000*k\n",
    "\n",
    "    # Calculate the accounting cost\n",
    "    # The first day (day 100) is treated special\n",
    "    accounting_cost = (daily_occupancy[DAYS[0]]-125.0) / 400.0 * daily_occupancy[DAYS[0]]**(0.5)\n",
    "    # using the max function because the soft constraints might allow occupancy to dip below 125\n",
    "    accounting_cost = max(0, accounting_cost)\n",
    "    \n",
    "    # Loop over the rest of the days, keeping track of previous count\n",
    "    yesterday_count = daily_occupancy[DAYS[0]]\n",
    "    for day in DAYS[1:]:\n",
    "        today_count = daily_occupancy[day]\n",
    "        diff = abs(today_count - yesterday_count)\n",
    "        accounting_cost += max(0, (daily_occupancy[day]-125.0) / 400.0 * daily_occupancy[day]**(0.5 + diff / 50.0))\n",
    "        yesterday_count = today_count\n",
    "\n",
    "    penalty += accounting_cost\n",
    "\n",
    "    return (penalty, )"
   ]
  },
  {
   "cell_type": "markdown",
   "metadata": {},
   "source": [
    "### The Genetic Operators\n",
    "\n",
    "Within DEAP there are two ways of using operators. We can either simply call a function from the tools module or register it with its arguments in a toolbox, as we have already seen for our initialization methods. The most convenient way, however, is to register them in the toolbox, because this allows us to easily switch between the operators if desired. The toolbox method is also used when working with the algorithms module. See the One Max Problem: Short Version for an example.\n",
    "\n",
    "Registering the genetic operators required for the evolution in our One Max problem and their default arguments in the toolbox is done as follows."
   ]
  },
  {
   "cell_type": "code",
   "execution_count": 6,
   "metadata": {},
   "outputs": [],
   "source": [
    "toolbox.register(\"evaluate\",   cost_function, family_size_ls=family_size_ls, choice_dict=choice_dict, \n",
    "                                                 choice_dict_num=choice_dict_num, penalties_dict=penalties_dict)\n",
    "toolbox.register(\"mate\",       tools.cxUniform, indpb=0.5)\n",
    "toolbox.register(\"select\",     tools.selTournament, tournsize=10) \n",
    "toolbox.register(\"mutate\",     tools.mutShuffleIndexes, indpb=0.5)"
   ]
  },
  {
   "cell_type": "markdown",
   "metadata": {},
   "source": [
    "## Run Evolution..."
   ]
  },
  {
   "cell_type": "code",
   "execution_count": 7,
   "metadata": {},
   "outputs": [
    {
     "name": "stdout",
     "output_type": "stream",
     "text": [
      "gen\tnevals\tavg             \tstd             \tmin                \tmax             \n",
      "0  \t1000  \t[1.40667921e+09]\t[2.36971358e+10]\t[10649234.96198103]\t[6.36942036e+11]\n",
      "1  \t1000  \t[11058658.16195831]\t[356092.31972847]\t[10649234.96198103]\t[14088449.8301383]\n",
      "2  \t1000  \t[10770342.64938748]\t[71113.38179799] \t[10649234.96198103]\t[11188192.70205521]\n",
      "3  \t1000  \t[10693131.17573927]\t[35255.88402661] \t[10565556.33453029]\t[10822587.26594775]\n",
      "4  \t1000  \t[10652162.07786345]\t[29658.58589272] \t[10565556.33453029]\t[11186907.26379286]\n",
      "5  \t1000  \t[10617500.19466831]\t[27145.50706134] \t[10533556.61341595]\t[10725422.08984747]\n",
      "6  \t1000  \t[10584631.99905635]\t[17615.45771787] \t[10525767.8477847] \t[10658574.5059124] \n",
      "7  \t1000  \t[10563934.329252]  \t[15624.71309687] \t[10525767.8477847] \t[10594939.47373946]\n",
      "8  \t1000  \t[10543405.28086613]\t[15006.09749187] \t[10498044.6079869] \t[10578696.33925849]\n",
      "9  \t1000  \t[10526572.10065332]\t[11240.4704577]  \t[10498044.6079869] \t[10558646.46142235]\n",
      "10 \t1000  \t[10511775.21467374]\t[13041.41038817] \t[10474890.53842065]\t[10533556.61341595]\n",
      "11 \t1000  \t[10495616.91307235]\t[10963.26316564] \t[10430063.41172426]\t[10525767.8477847] \n",
      "12 \t1000  \t[10480857.8800312] \t[16439.2722145]  \t[10423613.83212241]\t[10500485.10056852]\n",
      "13 \t1000  \t[10457581.77549464]\t[14919.90961701] \t[10413810.16356861]\t[10514730.41191013]\n",
      "14 \t1000  \t[10438188.74637045]\t[14342.99525261] \t[10393250.28604768]\t[10468403.04352625]\n",
      "15 \t1000  \t[10419115.82160592]\t[13620.38128064] \t[10368057.33177713]\t[10466706.70920094]\n",
      "16 \t1000  \t[10400705.54943608]\t[13150.10198913] \t[10354567.18529843]\t[10426140.72608796]\n",
      "17 \t1000  \t[10382619.92476438]\t[15226.654889]   \t[10314049.44273599]\t[10423613.83212241]\n",
      "18 \t1000  \t[10360857.24977206]\t[15610.64078148] \t[10314049.44273599]\t[10393250.28604768]\n",
      "19 \t1000  \t[10339495.69669166]\t[14992.56273509] \t[10298437.84199797]\t[10378030.7651694] \n",
      "20 \t1000  \t[10317237.05269567]\t[12724.94835752] \t[10245650.99282201]\t[10351271.47708661]\n",
      "21 \t1000  \t[10300147.69978889]\t[14809.10331311] \t[10245650.99282201]\t[10341272.7658831] \n",
      "22 \t1000  \t[10278413.15133696]\t[16325.04598628] \t[10245650.99282201]\t[10314017.65589646]\n",
      "23 \t1000  \t[10254419.32427902]\t[15270.76723541] \t[10204162.60695437]\t[10298437.84199797]\n",
      "24 \t1000  \t[10234869.70226904]\t[14170.26935042] \t[10180882.23333567]\t[10273527.52014227]\n",
      "25 \t1000  \t[10211142.35546033]\t[14133.45231848] \t[10174647.8222465] \t[10245650.99282201]\n",
      "26 \t1000  \t[10189009.76924331]\t[14959.42579927] \t[10112429.76282171]\t[10218042.2056313] \n",
      "27 \t1000  \t[10165666.30939238]\t[16000.39270381] \t[10112429.76282171]\t[10198866.22744263]\n",
      "28 \t1000  \t[10139111.24109709]\t[17043.5503199]  \t[10076249.87386397]\t[10174647.8222465] \n",
      "29 \t1000  \t[10113330.25308958]\t[13530.13046495] \t[10069710.64826204]\t[10154251.16978569]\n",
      "30 \t1000  \t[10093414.74838589]\t[14661.2598332]  \t[10026622.87222683]\t[10119059.4520245] \n",
      "31 \t1000  \t[10069407.53625934]\t[13105.14675623] \t[10019778.15993902]\t[10104938.75265563]\n",
      "32 \t1000  \t[10046155.81560349]\t[13621.76372258] \t[9999145.88292335] \t[10076249.87386397]\n",
      "33 \t1000  \t[10023161.68154456]\t[12189.13759634] \t[9967228.79470289] \t[10050682.85859927]\n",
      "34 \t1000  \t[10001894.82606057]\t[12219.16423584] \t[9963965.50084099] \t[10031593.72586109]\n",
      "35 \t1000  \t[9981232.58330849] \t[12374.67339126] \t[9933009.25167711] \t[10012336.10733999]\n",
      "36 \t1000  \t[9960746.4373972]  \t[10443.53434461] \t[9920598.60062715] \t[9986998.57528853] \n",
      "37 \t1000  \t[9942035.85783518] \t[11258.55533685] \t[9904479.77037098] \t[9967792.90896658] \n",
      "38 \t1000  \t[9921079.01309191] \t[11499.7878788]  \t[9883307.26489415] \t[9949777.55002391] \n",
      "39 \t1000  \t[9902495.93757517] \t[9849.95058387]  \t[9869584.12069186] \t[9929343.54836031] \n",
      "40 \t1000  \t[9885036.87870178] \t[9630.02695899]  \t[9852080.15426264] \t[9908614.67402623] \n",
      "41 \t1000  \t[9867062.57628699] \t[10317.07415165] \t[9829250.76088286] \t[9888814.47014673] \n",
      "42 \t1000  \t[9849006.96092495] \t[10784.23731712] \t[9803166.57338378] \t[9871829.72220157] \n",
      "43 \t1000  \t[9828870.85867435] \t[11475.17698409] \t[9786838.09883951] \t[9860802.37883766] \n",
      "44 \t1000  \t[9808082.45904776] \t[9955.92901707]  \t[9769657.00320796] \t[9835666.57072573] \n",
      "45 \t1000  \t[9789063.22789613] \t[10769.44912886] \t[9736890.0155088]  \t[9812867.8804002]  \n",
      "46 \t1000  \t[9769133.506584]   \t[10424.9815064]  \t[9735179.09174851] \t[9795357.93587164] \n",
      "47 \t1000  \t[9750947.99855487] \t[9585.54121827]  \t[9724485.79985432] \t[9770054.92510552] \n",
      "48 \t1000  \t[9733430.69894843] \t[8380.15282379]  \t[9704102.43511288] \t[9761873.34407096] \n",
      "49 \t1000  \t[9716688.95151092] \t[9616.97561294]  \t[9686732.76291803] \t[9735466.22182272] \n",
      "50 \t1000  \t[9698421.46601611] \t[9598.06151356]  \t[9671142.51681559] \t[9724192.62774286] \n",
      "51 \t1000  \t[9681823.76471899] \t[8450.58482907]  \t[9648352.53993892] \t[9705223.93585379] \n",
      "52 \t1000  \t[9665863.36379235] \t[8671.17033606]  \t[9628755.0186179]  \t[9682254.62223119] \n",
      "53 \t1000  \t[9649348.76258297] \t[8631.07539576]  \t[9615614.92547159] \t[9671142.51681559] \n",
      "54 \t1000  \t[9632760.71377124] \t[9138.59539141]  \t[9604353.76230597] \t[9651827.45921372] \n",
      "55 \t1000  \t[9616622.85537972] \t[7439.08542535]  \t[9590906.1050944]  \t[9640352.66038308] \n",
      "56 \t1000  \t[9602619.05254579] \t[7422.22294366]  \t[9577868.70156826] \t[9618441.91860056] \n",
      "57 \t1000  \t[9589162.27329018] \t[6777.28389746]  \t[9565391.56310107] \t[9612694.70418722] \n",
      "58 \t1000  \t[9576049.24831101] \t[7072.55701443]  \t[9553447.09095187] \t[9591836.0772597]  \n",
      "59 \t1000  \t[9564270.59298922] \t[5273.45126066]  \t[9546548.36079285] \t[9579206.13818738] \n",
      "60 \t1000  \t[9553622.79409415] \t[5770.84321558]  \t[9535269.43423373] \t[9567160.58370913] \n",
      "61 \t1000  \t[9541927.73015855] \t[6194.59838069]  \t[9524589.70591516] \t[9556789.43646556] \n",
      "62 \t1000  \t[9530398.47890083] \t[6482.78503167]  \t[9502739.51235838] \t[9542236.57557158] \n",
      "63 \t1000  \t[9517975.56668018] \t[7322.53197016]  \t[9497027.42433925] \t[9536015.06581279] \n",
      "64 \t1000  \t[9504334.09886333] \t[6319.16964232]  \t[9487892.79038659] \t[9519805.02688434] \n",
      "65 \t1000  \t[9492886.70206274] \t[5702.65203879]  \t[9469646.90617699] \t[9507304.54260801] \n",
      "66 \t1000  \t[9482260.03624257] \t[5709.02427199]  \t[9461919.44049474] \t[9494577.96326915] \n",
      "67 \t1000  \t[9471688.4091042]  \t[5507.23728657]  \t[9452944.78472881] \t[9484447.79089699] \n",
      "68 \t1000  \t[9461218.31932498] \t[5739.5390709]   \t[9442737.80307349] \t[9475292.04613311] \n",
      "69 \t1000  \t[9450258.56751571] \t[5291.45204078]  \t[9436093.85536475] \t[9464448.95396947] \n",
      "70 \t1000  \t[9440468.66587022] \t[4733.11539106]  \t[9415313.39852926] \t[9452926.42391916] \n",
      "71 \t1000  \t[9431420.20875777] \t[5298.1915677]   \t[9415313.39852926] \t[9442737.80307349] \n",
      "72 \t1000  \t[9422131.46591054] \t[4947.55150658]  \t[9407149.94562038] \t[9433466.81407864] \n",
      "73 \t1000  \t[9413249.66726227] \t[4511.76373117]  \t[9400237.33710081] \t[9424637.83909293] \n",
      "74 \t1000  \t[9405194.14420789] \t[3547.16117603]  \t[9394088.07469457] \t[9415313.39852926] \n",
      "75 \t1000  \t[9398562.76366296] \t[3679.63675342]  \t[9382777.64620285] \t[9406162.12642079] \n",
      "76 \t1000  \t[9390604.37434146] \t[4524.56571619]  \t[9374831.33784959] \t[9400261.67048478] \n",
      "77 \t1000  \t[9382468.80580027] \t[3743.34505988]  \t[9372590.98018892] \t[9392476.80163031] \n",
      "78 \t1000  \t[9375647.83079757] \t[3551.17643932]  \t[9361549.12214307] \t[9383816.92376517] \n",
      "79 \t1000  \t[9369042.06023896] \t[3654.81163203]  \t[9359022.94481845] \t[9377555.3724697]  \n",
      "80 \t1000  \t[9362977.28943468] \t[2680.06095542]  \t[9354823.73542575] \t[9370944.35602958] \n",
      "81 \t1000  \t[9358228.58912226] \t[2435.20075744]  \t[9348618.90420752] \t[9362858.90317517] \n",
      "82 \t1000  \t[9353081.72222102] \t[2785.87926315]  \t[9345513.1364207]  \t[9358862.073367]   \n",
      "83 \t1000  \t[9348207.42686384] \t[2059.19297006]  \t[9341959.66534182] \t[9353936.86404427] \n",
      "84 \t1000  \t[9344398.96466178] \t[1826.36539651]  \t[9339056.78149739] \t[9348567.33910256] \n",
      "85 \t1000  \t[9340580.11269736] \t[2026.31802611]  \t[9333875.24333096] \t[9345513.1364207]  \n",
      "86 \t1000  \t[9336954.05035738] \t[1781.36726824]  \t[9332114.84768977] \t[9341511.09386528] \n",
      "87 \t1000  \t[9333717.6706246]  \t[1516.22582561]  \t[9329338.0256678]  \t[9337824.44816782] \n",
      "88 \t1000  \t[9330989.65304343] \t[1187.12417052]  \t[9327536.02327902] \t[9334121.29555144] \n",
      "89 \t1000  \t[9328968.34811533] \t[976.18130151]   \t[9325918.90646638] \t[9331999.3937268]  \n",
      "90 \t1000  \t[9327095.99907361] \t[989.54054454]   \t[9323940.52918641] \t[9329362.0015695]  \n",
      "91 \t1000  \t[9325373.12840768] \t[782.86669191]   \t[9322440.34561891] \t[9327395.71877439] \n",
      "92 \t1000  \t[9323936.60492399] \t[689.85222792]   \t[9322132.35880776] \t[9325853.05468128] \n",
      "93 \t1000  \t[9322684.33052069] \t[637.78420501]   \t[9320432.3845135]  \t[9324175.15758371] \n",
      "94 \t1000  \t[9321553.4632686]  \t[600.0821063]    \t[9320132.6937554]  \t[9323030.39930955] \n",
      "95 \t1000  \t[9320590.01659905] \t[406.46388686]   \t[9319504.06515327] \t[9322165.88781581] \n",
      "96 \t1000  \t[9319969.60277649] \t[310.43821578]   \t[9319112.68507688] \t[9320813.21422798] \n",
      "97 \t1000  \t[9319452.32466909] \t[236.79934484]   \t[9318756.98347429] \t[9320104.00101277] \n",
      "98 \t1000  \t[9319079.9048369]  \t[207.4755929]    \t[9318407.94410389] \t[9319552.93372671] \n",
      "99 \t1000  \t[9318742.16333221] \t[172.71302838]   \t[9318223.96073186] \t[9319370.64799386] \n",
      "100\t1000  \t[9318472.64034326] \t[144.8156312]    \t[9318062.0674409]  \t[9318812.34891592] \n"
     ]
    }
   ],
   "source": [
    "ngen      = 100  # Gerations\n",
    "npop      = 1000 # Population\n",
    "\n",
    "hof   = tools.ParetoFront()\n",
    "stats = tools.Statistics(lambda ind: ind.fitness.values)\n",
    "\n",
    "# Statistics\n",
    "stats.register(\"avg\", numpy.mean, axis=0)\n",
    "stats.register(\"std\", numpy.std, axis=0)\n",
    "stats.register(\"min\", numpy.min, axis=0)\n",
    "stats.register(\"max\", numpy.max, axis=0)\n",
    "\n",
    "\n",
    "# Evolution\n",
    "pop, logbook = algorithms.eaMuPlusLambda(pop, toolbox, mu=npop, lambda_=npop,\n",
    "                                          cxpb=0.7,   mutpb=0.3, ngen=ngen, \n",
    "                                          stats=stats, halloffame=hof)"
   ]
  },
  {
   "cell_type": "code",
   "execution_count": 8,
   "metadata": {},
   "outputs": [
    {
     "name": "stdout",
     "output_type": "stream",
     "text": [
      "\n",
      "[100] best_score: 9318062.067440901\n"
     ]
    }
   ],
   "source": [
    "# Best Solution\n",
    "best_solution = tools.selBest(pop, 1)[0]\n",
    "print(\"\")\n",
    "print(\"[{}] best_score: {}\".format(logbook[-1]['gen'], logbook[-1]['min'][0]))"
   ]
  },
  {
   "cell_type": "code",
   "execution_count": 9,
   "metadata": {},
   "outputs": [
    {
     "data": {
      "image/png": "[encoded data removed]",
      "text/plain": [
       "<Figure size 720x576 with 1 Axes>"
      ]
     },
     "metadata": {
      "needs_background": "light"
     },
     "output_type": "display_data"
    }
   ],
   "source": [
    "import matplotlib.pyplot as plt\n",
    "import seaborn as sns\n",
    "\n",
    "# History AVG\n",
    "plt.figure(figsize=(10,8))\n",
    "front = np.array([(c['gen'], c['avg'][0]) for c in logbook])\n",
    "plt.plot(front[:,0][1:-1], front[:,1][1:-1], \"-bo\", c=\"b\")\n",
    "plt.axis(\"tight\")\n",
    "plt.show()"
   ]
  },
  {
   "cell_type": "code",
   "execution_count": 10,
   "metadata": {},
   "outputs": [
    {
     "name": "stdout",
     "output_type": "stream",
     "text": [
      "           assigned_day\n",
      "family_id              \n",
      "0                    83\n",
      "1                    67\n",
      "2                    52\n",
      "3                    17\n",
      "4                    54\n"
     ]
    }
   ],
   "source": [
    "# Export Result\n",
    "\n",
    "submission['assigned_day']=best_solution\n",
    "print(submission.head())\n",
    "submission.to_csv('submission_{}.csv'.format(logbook[-1]['min'][0]))  "
   ]
  },
  {
   "cell_type": "markdown",
   "metadata": {},
   "source": [
    "## Conclusion\n",
    "\n",
    "It has been shown that the DEAP library can be used to optimize the proposed problem. The optimization speed depends on the parameterization of each step of the genetic algorithm.\n"
   ]
  }
 ],
 "metadata": {
  "kernelspec": {
   "display_name": "Python 3 (ipykernel)",
   "language": "python",
   "name": "python3"
  },
  "language_info": {
   "codemirror_mode": {
    "name": "ipython",
    "version": 3
   },
   "file_extension": ".py",
   "mimetype": "text/x-python",
   "name": "python",
   "nbconvert_exporter": "python",
   "pygments_lexer": "ipython3",
   "version": "3.11.3"
  }
 },
 "nbformat": 4,
 "nbformat_minor": 1
}
